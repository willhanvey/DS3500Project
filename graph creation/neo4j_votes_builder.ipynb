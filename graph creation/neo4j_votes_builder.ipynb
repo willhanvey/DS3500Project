{
 "cells": [
  {
   "cell_type": "code",
   "execution_count": 1,
   "id": "a5065f4b",
   "metadata": {},
   "outputs": [],
   "source": [
    "import pandas as pd\n",
    "import numpy as np\n",
    "import os\n",
    "from tqdm.notebook import tqdm\n",
    "import datetime as dt\n",
    "import re"
   ]
  },
  {
   "cell_type": "markdown",
   "id": "4a383e40-d224-4829-a8f7-7be3a5bf1826",
   "metadata": {},
   "source": [
    "Cleaning"
   ]
  },
  {
   "cell_type": "code",
   "execution_count": 2,
   "id": "a3389bcb",
   "metadata": {},
   "outputs": [],
   "source": [
    "data = pd.read_csv(\"UN DATA.csv\", engine='python')\n",
    "# They throw problems, manual inspection\n",
    "data.drop(\"COTE D’IVOIRE\", axis=1, inplace=True)\n",
    "data.drop(\" UNITED KINGDOM\", axis=1, inplace=True)\n",
    "data.drop(\" UNITED STATES\", axis=1, inplace=True)\n",
    "data.drop(\" CHILE\", axis=1, inplace=True)\n",
    "data.drop(\" SOMALIA\", axis=1, inplace=True)\n",
    "data.drop(\" ALGERIA\", axis=1, inplace=True)\n",
    "data.drop(\" BELGIUM\", axis=1, inplace=True)\n",
    "data.drop(\"Aa UNITED STATES\", axis=1, inplace=True)\n",
    "data.drop(\"AY UNION OF SOUTH AFRICA\", axis=1, inplace=True)\n",
    "data.drop(\"AY DENMARK\", axis=1, inplace=True)\n",
    "data.drop(\"AY SWEDEN\", axis=1, inplace=True)"
   ]
  },
  {
   "cell_type": "markdown",
   "id": "7f57d91d-a089-4f03-8226-00cc053dd835",
   "metadata": {},
   "source": [
    "Keep only alphanumericalnames of countries to then use as a mapping "
   ]
  },
  {
   "cell_type": "code",
   "execution_count": 3,
   "id": "3f85d6a7-9140-46e1-9735-faef9a9ad71e",
   "metadata": {},
   "outputs": [],
   "source": [
    "colnames_country = {i: re.sub('[^A-Za-z0-9]+', '', i) for i in data.columns.tolist()}\n",
    "data = data.rename(columns=colnames_country)\n",
    "countries = data.columns[11:]"
   ]
  },
  {
   "cell_type": "markdown",
   "id": "90bfb1ef-00fb-4b9a-836f-418198af18a4",
   "metadata": {},
   "source": [
    "Create country-country DataFrame"
   ]
  },
  {
   "cell_type": "code",
   "execution_count": 4,
   "id": "0ffad3c6-0b4e-4dba-81fe-f196c881f8b5",
   "metadata": {},
   "outputs": [],
   "source": [
    "from itertools import product\n",
    "\n",
    "ctr_ctr = pd.DataFrame(list(product(countries, countries)))"
   ]
  },
  {
   "cell_type": "markdown",
   "id": "71b237a3-695f-4384-a2f6-f33a0cee6cb0",
   "metadata": {},
   "source": [
    "Remove duplicated country pairs"
   ]
  },
  {
   "cell_type": "code",
   "execution_count": 5,
   "id": "3b53fc8b-d8ef-4e96-b45e-8893f22bf426",
   "metadata": {},
   "outputs": [],
   "source": [
    "# https://stackoverflow.com/a/40475008\n",
    "ctr_ctr = pd.DataFrame(np.sort(ctr_ctr.values, axis=1), columns=ctr_ctr.columns).drop_duplicates()"
   ]
  },
  {
   "cell_type": "markdown",
   "id": "2d0baa63-43f8-4c1e-8fc9-09cd6b5cf901",
   "metadata": {},
   "source": [
    "Remove same country pairs"
   ]
  },
  {
   "cell_type": "code",
   "execution_count": 6,
   "id": "9afb42b4-7bdf-4fe5-a23d-4f6685eb8e54",
   "metadata": {},
   "outputs": [],
   "source": [
    "# https://stackoverflow.com/a/43951580\n",
    "ctr_ctr = ctr_ctr[ctr_ctr[0] != ctr_ctr[1]].rename(columns={0: \"countryA\",1: \"countryB\"})"
   ]
  },
  {
   "cell_type": "markdown",
   "id": "85f126d7-7b13-4182-a4d9-a2a37874d41a",
   "metadata": {},
   "source": [
    "Get list of countries in use"
   ]
  },
  {
   "cell_type": "code",
   "execution_count": 7,
   "id": "6706901e-fa31-491c-a93a-0fc3591736fc",
   "metadata": {},
   "outputs": [
    {
     "data": {
      "text/plain": [
       "<bound method NDFrame.head of                         countryA                       countryB\n",
       "1                       MALAYSIA                        SENEGAL\n",
       "2                        SENEGAL  VENEZUELABOLIVARIANREPUBLICOF\n",
       "3                        SENEGAL                  UNITEDKINGDOM\n",
       "4              RUSSIANFEDERATION                        SENEGAL\n",
       "5                          JAPAN                        SENEGAL\n",
       "...                          ...                            ...\n",
       "60758        DEMOCRATICCAMPUCHEA       SAINTCHRISTOPHERANDNEVIS\n",
       "60759  CONGODEMOCRATICREPUBLICOF       SAINTCHRISTOPHERANDNEVIS\n",
       "61006        DEMOCRATICCAMPUCHEA                    TKAZAKHSTAN\n",
       "61007  CONGODEMOCRATICREPUBLICOF                    TKAZAKHSTAN\n",
       "61255  CONGODEMOCRATICREPUBLICOF            DEMOCRATICCAMPUCHEA\n",
       "\n",
       "[30628 rows x 2 columns]>"
      ]
     },
     "execution_count": 7,
     "metadata": {},
     "output_type": "execute_result"
    }
   ],
   "source": [
    "countryA = ctr_ctr.groupby(by=\"countryA\").count().index.tolist()\n",
    "ctr_ctr.head"
   ]
  },
  {
   "cell_type": "markdown",
   "id": "f4bb5188-9dfe-4ed3-858d-43f4c0e657df",
   "metadata": {},
   "source": [
    "Compute similarity"
   ]
  },
  {
   "cell_type": "code",
   "execution_count": 8,
   "id": "5ad82b61",
   "metadata": {},
   "outputs": [
    {
     "data": {
      "application/vnd.jupyter.widget-view+json": {
       "model_id": "a9afc29e100f411ba055434d6f4bed36",
       "version_major": 2,
       "version_minor": 0
      },
      "text/plain": [
       "  0%|          | 0/247 [00:00<?, ?it/s]"
      ]
     },
     "metadata": {},
     "output_type": "display_data"
    }
   ],
   "source": [
    "ctr_ctr[\"similarity\"] = np.nan\n",
    "for idx, cA in enumerate(tqdm(countryA)):\n",
    "    for cB in countryA[idx+1:]:\n",
    "        # Find data of 2 countries voting on the same resolution\n",
    "        currentData = pd.concat([data[cA], data[cB]], axis=1).dropna()\n",
    "        total = currentData[cA].count() # number of votes\n",
    "        if total > 100:\n",
    "            same = currentData[cA].eq(currentData[cB]).sum() # ocassions when they have the same vote\n",
    "            ctr_ctr.loc[(ctr_ctr.countryA == cA) & (ctr_ctr.countryB == cB),'similarity'] = same/total\n",
    "\n",
    "ctr_ctr.dropna(inplace=True) # remove countries with non-relevant similarities"
   ]
  },
  {
   "cell_type": "code",
   "execution_count": 12,
   "id": "4a915414-ef32-43a9-9ce9-d3938b488924",
   "metadata": {},
   "outputs": [
    {
     "data": {
      "text/html": [
       "<div>\n",
       "<style scoped>\n",
       "    .dataframe tbody tr th:only-of-type {\n",
       "        vertical-align: middle;\n",
       "    }\n",
       "\n",
       "    .dataframe tbody tr th {\n",
       "        vertical-align: top;\n",
       "    }\n",
       "\n",
       "    .dataframe thead th {\n",
       "        text-align: right;\n",
       "    }\n",
       "</style>\n",
       "<table border=\"1\" class=\"dataframe\">\n",
       "  <thead>\n",
       "    <tr style=\"text-align: right;\">\n",
       "      <th></th>\n",
       "      <th>countryA</th>\n",
       "      <th>countryB</th>\n",
       "      <th>similarity</th>\n",
       "    </tr>\n",
       "  </thead>\n",
       "  <tbody>\n",
       "    <tr>\n",
       "      <th>1375</th>\n",
       "      <td>AFGHANISTAN</td>\n",
       "      <td>JAPAN</td>\n",
       "      <td>0.489941</td>\n",
       "    </tr>\n",
       "    <tr>\n",
       "      <th>2615</th>\n",
       "      <td>AFGHANISTAN</td>\n",
       "      <td>NEW ZEALAND</td>\n",
       "      <td>0.516345</td>\n",
       "    </tr>\n",
       "    <tr>\n",
       "      <th>32375</th>\n",
       "      <td>AFGHANISTAN</td>\n",
       "      <td>SAO TOME AND PRINCIPE</td>\n",
       "      <td>0.606853</td>\n",
       "    </tr>\n",
       "    <tr>\n",
       "      <th>15759</th>\n",
       "      <td>AFGHANISTAN</td>\n",
       "      <td>CABO VERDE</td>\n",
       "      <td>0.870886</td>\n",
       "    </tr>\n",
       "    <tr>\n",
       "      <th>6583</th>\n",
       "      <td>AFGHANISTAN</td>\n",
       "      <td>UNITED REPUBLIC OF TANZANIA</td>\n",
       "      <td>0.798859</td>\n",
       "    </tr>\n",
       "    <tr>\n",
       "      <th>...</th>\n",
       "      <td>...</td>\n",
       "      <td>...</td>\n",
       "      <td>...</td>\n",
       "    </tr>\n",
       "    <tr>\n",
       "      <th>12365</th>\n",
       "      <td>YEMEN</td>\n",
       "      <td>ZAIRE</td>\n",
       "      <td>0.786008</td>\n",
       "    </tr>\n",
       "    <tr>\n",
       "      <th>10713</th>\n",
       "      <td>YEMEN</td>\n",
       "      <td>ZAMBIA</td>\n",
       "      <td>0.839006</td>\n",
       "    </tr>\n",
       "    <tr>\n",
       "      <th>10865</th>\n",
       "      <td>YUGOSLAVIA</td>\n",
       "      <td>ZAMBIA</td>\n",
       "      <td>0.759430</td>\n",
       "    </tr>\n",
       "    <tr>\n",
       "      <th>50061</th>\n",
       "      <td>YUGOSLAVIA</td>\n",
       "      <td>ZAIRE</td>\n",
       "      <td>0.846914</td>\n",
       "    </tr>\n",
       "    <tr>\n",
       "      <th>10877</th>\n",
       "      <td>ZAIRE</td>\n",
       "      <td>ZAMBIA</td>\n",
       "      <td>0.837860</td>\n",
       "    </tr>\n",
       "  </tbody>\n",
       "</table>\n",
       "<p>24279 rows × 3 columns</p>\n",
       "</div>"
      ],
      "text/plain": [
       "          countryA                     countryB  similarity\n",
       "1375   AFGHANISTAN                        JAPAN    0.489941\n",
       "2615   AFGHANISTAN                  NEW ZEALAND    0.516345\n",
       "32375  AFGHANISTAN        SAO TOME AND PRINCIPE    0.606853\n",
       "15759  AFGHANISTAN                   CABO VERDE    0.870886\n",
       "6583   AFGHANISTAN  UNITED REPUBLIC OF TANZANIA    0.798859\n",
       "...            ...                          ...         ...\n",
       "12365        YEMEN                        ZAIRE    0.786008\n",
       "10713        YEMEN                       ZAMBIA    0.839006\n",
       "10865   YUGOSLAVIA                       ZAMBIA    0.759430\n",
       "50061   YUGOSLAVIA                        ZAIRE    0.846914\n",
       "10877        ZAIRE                       ZAMBIA    0.837860\n",
       "\n",
       "[24279 rows x 3 columns]"
      ]
     },
     "execution_count": 12,
     "metadata": {},
     "output_type": "execute_result"
    }
   ],
   "source": [
    "ctr_ctr.sort_values(by=[\"countryA\"])"
   ]
  },
  {
   "cell_type": "markdown",
   "id": "cf3ff62b-918c-42a2-abf6-a26701b3407b",
   "metadata": {},
   "source": [
    "Map name of countries back to their original values"
   ]
  },
  {
   "cell_type": "code",
   "execution_count": 13,
   "id": "0e241821",
   "metadata": {
    "tags": []
   },
   "outputs": [],
   "source": [
    "colnames_country = {v: k for k, v in colnames_country.items()}\n",
    "colnames_country_func = lambda x: colnames_country[x] if x in colnames_country.keys() else x\n",
    "ctr_ctr['countryA'] = ctr_ctr['countryA'].map(colnames_country_func)\n",
    "ctr_ctr['countryB'] = ctr_ctr['countryB'].map(colnames_country_func)\n"
   ]
  },
  {
   "cell_type": "code",
   "execution_count": 14,
   "id": "9193cc95",
   "metadata": {},
   "outputs": [],
   "source": [
    "ctr_ctr.to_csv(\"neo4j_votes.csv\", encoding='utf-8', index=False)"
   ]
  }
 ],
 "metadata": {
  "kernelspec": {
   "display_name": "Python 3 (ipykernel)",
   "language": "python",
   "name": "python3"
  },
  "language_info": {
   "codemirror_mode": {
    "name": "ipython",
    "version": 3
   },
   "file_extension": ".py",
   "mimetype": "text/x-python",
   "name": "python",
   "nbconvert_exporter": "python",
   "pygments_lexer": "ipython3",
   "version": "3.9.7"
  }
 },
 "nbformat": 4,
 "nbformat_minor": 5
}
